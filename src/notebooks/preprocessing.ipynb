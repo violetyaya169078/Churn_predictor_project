{
 "cells": [
  {
   "cell_type": "code",
   "execution_count": 1,
   "id": "3da4d195-7108-40db-b758-c39889eaaf74",
   "metadata": {},
   "outputs": [],
   "source": [
    "from dataclasses import dataclass\n",
    "import numpy as np\n",
    "import pandas as pd\n",
    "from sklearn.compose import ColumnTransformer\n",
    "from sklearn.preprocessing import OneHotEncoder, StandardScaler\n",
    "from sklearn.pipeline import Pipeline\n",
    "from sklearn.impute import SimpleImputer"
   ]
  },
  {
   "cell_type": "code",
   "execution_count": 2,
   "id": "04035a8e-bfb2-4dff-ace6-1dcb1467ac92",
   "metadata": {},
   "outputs": [],
   "source": [
    "@dataclass\n",
    "class PreprocessConfig:\n",
    "    drop_cols: list | None = None\n",
    "    corr_threshold: float | None = None # None if no correlation dropping\n",
    "    expect_numeric: bool = True # False if categorical exist\n",
    "\n",
    "def build_preprocessor(df:pd.DataFrame, cfg:PreprocessConfig) -> tuple[Pipeline, list[str]]:\n",
    "    X = df.copy()\n",
    "    if cfg.drop_cols:\n",
    "        X = X.drop(columns=[c for c in cfg.drop_cols if c in X.columns], errors='ignore')\n",
    "    num_cols = X.select_dtypes(include=[np.number]).columns.tolist()\n",
    "    cat_cols = [] if cfg.expect_numeric else X.select_dtypes(include=['object','category','bool'])\n",
    "\n",
    "    # Pipelines\n",
    "    num_pipe = Pipeline([\n",
    "        ('imputer', SimpleImputer(strategy='median')), \n",
    "        ('scaler', StandardScaler())\n",
    "    ])\n",
    "    cat_pipe = Pipeline([\n",
    "        ('imputer', SimpleImputer(strategy='most_frequent')), \n",
    "        ('ohe', OneHotEncoder(handle_unknown='ignore', drop='if_binary', sparse_output=False))\n",
    "    ])\n",
    "    ct = ColumnTransformer(\n",
    "        transformer=[\n",
    "            ('num', num_pipe, num_cols), \n",
    "            ('cat', cat_pipe, cat_cols)], \n",
    "        remainder='drop'\n",
    "    )\n",
    "\n",
    "    # Post transform - drop highly correlated cols\n",
    "    def get_feature_names() -> list[str]:\n",
    "        names = []\n",
    "        if num_cols:\n",
    "            name += num_cols\n",
    "        if cat_cols:\n",
    "            ohe = ct.named_transformers_['cat'].named_steps['ohe']\n",
    "            ohe_names = ohe.get_feature_names_out(cat_cols).tolist()\n",
    "            names += ohe_names\n",
    "        return names\n",
    "\n",
    "    return ct, get_feature_names"
   ]
  }
 ],
 "metadata": {
  "kernelspec": {
   "display_name": "Python 3 (ipykernel)",
   "language": "python",
   "name": "python3"
  },
  "language_info": {
   "codemirror_mode": {
    "name": "ipython",
    "version": 3
   },
   "file_extension": ".py",
   "mimetype": "text/x-python",
   "name": "python",
   "nbconvert_exporter": "python",
   "pygments_lexer": "ipython3",
   "version": "3.13.5"
  }
 },
 "nbformat": 4,
 "nbformat_minor": 5
}
