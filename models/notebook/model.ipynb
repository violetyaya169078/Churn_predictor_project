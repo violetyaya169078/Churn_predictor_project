{
 "cells": [
  {
   "cell_type": "code",
   "execution_count": 1,
   "id": "3747f27b-f2e9-4b0b-a51f-98b94055b51d",
   "metadata": {},
   "outputs": [],
   "source": [
    "import tensorflow as tf\n",
    "import keras_tuner as kt\n",
    "from tensorflow.keras.models import Sequential\n",
    "from tensorflow.keras.layers import Dense, Dropout, BatchNormalization\n",
    "from tensorflow.keras.optimizers import Adam"
   ]
  },
  {
   "cell_type": "code",
   "execution_count": 2,
   "id": "cb19043f-94da-4ef3-9936-7f95e80585ee",
   "metadata": {},
   "outputs": [],
   "source": [
    "# Build keras model\n",
    "def build_model(input_dim:int, units1=64, units2=32, units3=16, lr=0.001):\n",
    "    # Initialise ANN\n",
    "    model = Sequential()\n",
    "    \n",
    "    # Input layer and 1st hidden layer\n",
    "    model.add(Dense(units1, kernel_initializer='he_uniform', activation='relu', input_shape=(input_dim,)))\n",
    "    model.add(BatchNormalization())\n",
    "    model.add(Dropout(0.2))\n",
    "    \n",
    "    # 2nd layer\n",
    "    model.add(Dense(units2, kernel_initializer='he_uniform', activation='relu'))\n",
    "    model.add(BatchNormalization())\n",
    "    model.add(Dropout(0.2))\n",
    "    \n",
    "    # 3rd layer\n",
    "    model.add(Dense(units3, kernel_initializer='he_uniform', activation='relu'))\n",
    "    model.add(BatchNormalization())\n",
    "    \n",
    "    # Output layer\n",
    "    model.add(Dense(1, kernel_initializer='glorot_uniform', activation='sigmoid'))\n",
    "    \n",
    "    # Optimise\n",
    "    model.compile(optimizer=Adam(learning_rate=lr), loss='binary_crossentropy', metrics=[tf.keras.metrics.AUC(curve='PR', name='auprc'), 'accuracy'])\n",
    "    \n",
    "    return model "
   ]
  },
  {
   "cell_type": "code",
   "execution_count": 3,
   "id": "52f223aa-c143-4a49-8430-f7b574d99da1",
   "metadata": {},
   "outputs": [],
   "source": [
    "def hypermodel(hp:kt.HyperParameters, input_dim:int):\n",
    "    u1 = hp.Int('units1', min_value=32, max_value=128, step=32)\n",
    "    u2 = hp.Int('units2', min_value=16, max_value=64, step=16)\n",
    "    u3 = hp.Int('units3', min_value=8, max_value=32, step=8)\n",
    "    lr = hp.Float('lr', 1e-4, 1e-2, sampling='log')\n",
    "    return build_model(input_dim, u1, u2, u3, lr)"
   ]
  },
  {
   "cell_type": "code",
   "execution_count": 4,
   "id": "2c080fae-76b1-418a-92e4-eed5b15c70e9",
   "metadata": {},
   "outputs": [],
   "source": [
    "def make_tuner(input_dim:int, project_name='krs_hyperband', directory='hyperband'):\n",
    "    tuner = kt.Hyperband(\n",
    "    hypermodel=lambda hp:hypermodel(hp, input_dim),\n",
    "    max_epochs=30,\n",
    "    objective=Objective('val_auprc', direction='max'),\n",
    "    executions_per_trial=3,\n",
    "    directory=directory,\n",
    "    project_name=project_name,\n",
    "    overwrite=True)\n",
    "    return tuner"
   ]
  }
 ],
 "metadata": {
  "kernelspec": {
   "display_name": "Python 3 (ipykernel)",
   "language": "python",
   "name": "python3"
  },
  "language_info": {
   "codemirror_mode": {
    "name": "ipython",
    "version": 3
   },
   "file_extension": ".py",
   "mimetype": "text/x-python",
   "name": "python",
   "nbconvert_exporter": "python",
   "pygments_lexer": "ipython3",
   "version": "3.13.5"
  }
 },
 "nbformat": 4,
 "nbformat_minor": 5
}
